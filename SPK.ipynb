{
  "nbformat": 4,
  "nbformat_minor": 0,
  "metadata": {
    "colab": {
      "name": "SPK",
      "provenance": [],
      "collapsed_sections": []
    },
    "kernelspec": {
      "name": "python3",
      "display_name": "Python 3"
    },
    "language_info": {
      "name": "python"
    }
  },
  "cells": [
    {
      "cell_type": "code",
      "metadata": {
        "id": "tB4L0Z-sEdcp"
      },
      "source": [
        "import pandas as pd\n",
        "import numpy as np"
      ],
      "execution_count": null,
      "outputs": []
    },
    {
      "cell_type": "code",
      "metadata": {
        "id": "2ckpcj5yEiBu"
      },
      "source": [
        "url = 'https://raw.githubusercontent.com/AlfarrelIndrawan/data-review-spk/main/spk%20teks.txt'\n",
        "data = pd.read_csv(url, delimiter = \"\\t\", encoding='cp1252')"
      ],
      "execution_count": null,
      "outputs": []
    },
    {
      "cell_type": "code",
      "metadata": {
        "colab": {
          "base_uri": "https://localhost:8080/",
          "height": 423
        },
        "id": "cBL0cnkQo0zS",
        "outputId": "3d7a9835-9888-464c-b361-30515e000a5b"
      },
      "source": [
        "data"
      ],
      "execution_count": null,
      "outputs": [
        {
          "output_type": "execute_result",
          "data": {
            "text/html": [
              "<div>\n",
              "<style scoped>\n",
              "    .dataframe tbody tr th:only-of-type {\n",
              "        vertical-align: middle;\n",
              "    }\n",
              "\n",
              "    .dataframe tbody tr th {\n",
              "        vertical-align: top;\n",
              "    }\n",
              "\n",
              "    .dataframe thead th {\n",
              "        text-align: right;\n",
              "    }\n",
              "</style>\n",
              "<table border=\"1\" class=\"dataframe\">\n",
              "  <thead>\n",
              "    <tr style=\"text-align: right;\">\n",
              "      <th></th>\n",
              "      <th>rating</th>\n",
              "      <th>review</th>\n",
              "      <th>jenis_review</th>\n",
              "    </tr>\n",
              "  </thead>\n",
              "  <tbody>\n",
              "    <tr>\n",
              "      <th>0</th>\n",
              "      <td>1</td>\n",
              "      <td>Bagaimana bisa,,data di KTP saya, saya isi ke ...</td>\n",
              "      <td>0</td>\n",
              "    </tr>\n",
              "    <tr>\n",
              "      <th>1</th>\n",
              "      <td>1</td>\n",
              "      <td>Saya kasih satu dulu karena aplikasi saat dido...</td>\n",
              "      <td>0</td>\n",
              "    </tr>\n",
              "    <tr>\n",
              "      <th>2</th>\n",
              "      <td>1</td>\n",
              "      <td>Admin. Masalah saya yg pertama saat melakukan ...</td>\n",
              "      <td>0</td>\n",
              "    </tr>\n",
              "    <tr>\n",
              "      <th>3</th>\n",
              "      <td>1</td>\n",
              "      <td>Sangat kecewa &amp; tdk profesional sekali. Cs ped...</td>\n",
              "      <td>0</td>\n",
              "    </tr>\n",
              "    <tr>\n",
              "      <th>4</th>\n",
              "      <td>1</td>\n",
              "      <td>Aplikasinya sangat buruk. Registrasinya susah ...</td>\n",
              "      <td>0</td>\n",
              "    </tr>\n",
              "    <tr>\n",
              "      <th>...</th>\n",
              "      <td>...</td>\n",
              "      <td>...</td>\n",
              "      <td>...</td>\n",
              "    </tr>\n",
              "    <tr>\n",
              "      <th>195</th>\n",
              "      <td>5</td>\n",
              "      <td>Saya vaksin yang pertama tgl 09/10/2021 , dan ...</td>\n",
              "      <td>1</td>\n",
              "    </tr>\n",
              "    <tr>\n",
              "      <th>196</th>\n",
              "      <td>5</td>\n",
              "      <td>Alhamdulillah sejauh ini saya tidak ada kendal...</td>\n",
              "      <td>1</td>\n",
              "    </tr>\n",
              "    <tr>\n",
              "      <th>197</th>\n",
              "      <td>5</td>\n",
              "      <td>Aplikasi ini sangat dibutuhkan banget untuk ma...</td>\n",
              "      <td>1</td>\n",
              "    </tr>\n",
              "    <tr>\n",
              "      <th>198</th>\n",
              "      <td>5</td>\n",
              "      <td>Alhamdulilah apk nya membantu banget, syukur j...</td>\n",
              "      <td>1</td>\n",
              "    </tr>\n",
              "    <tr>\n",
              "      <th>199</th>\n",
              "      <td>5</td>\n",
              "      <td>Bagus banget aplikasi nya cocok banget lagi ke...</td>\n",
              "      <td>1</td>\n",
              "    </tr>\n",
              "  </tbody>\n",
              "</table>\n",
              "<p>200 rows × 3 columns</p>\n",
              "</div>"
            ],
            "text/plain": [
              "     rating                                             review  jenis_review\n",
              "0         1  Bagaimana bisa,,data di KTP saya, saya isi ke ...             0\n",
              "1         1  Saya kasih satu dulu karena aplikasi saat dido...             0\n",
              "2         1  Admin. Masalah saya yg pertama saat melakukan ...             0\n",
              "3         1  Sangat kecewa & tdk profesional sekali. Cs ped...             0\n",
              "4         1  Aplikasinya sangat buruk. Registrasinya susah ...             0\n",
              "..      ...                                                ...           ...\n",
              "195       5  Saya vaksin yang pertama tgl 09/10/2021 , dan ...             1\n",
              "196       5  Alhamdulillah sejauh ini saya tidak ada kendal...             1\n",
              "197       5  Aplikasi ini sangat dibutuhkan banget untuk ma...             1\n",
              "198       5  Alhamdulilah apk nya membantu banget, syukur j...             1\n",
              "199       5  Bagus banget aplikasi nya cocok banget lagi ke...             1\n",
              "\n",
              "[200 rows x 3 columns]"
            ]
          },
          "metadata": {},
          "execution_count": 3
        }
      ]
    },
    {
      "cell_type": "markdown",
      "metadata": {
        "id": "Yw4brcLjN5z-"
      },
      "source": [
        "# Preprocessing"
      ]
    },
    {
      "cell_type": "code",
      "metadata": {
        "colab": {
          "base_uri": "https://localhost:8080/"
        },
        "id": "3miN0MmI4FW9",
        "outputId": "c82524c1-aa4f-413e-df58-4d9a7d7b2342"
      },
      "source": [
        "!pip install PySastrawi\n",
        "# import StemmerFactory class\n",
        "from Sastrawi.Stemmer.StemmerFactory import StemmerFactory"
      ],
      "execution_count": null,
      "outputs": [
        {
          "output_type": "stream",
          "name": "stdout",
          "text": [
            "Requirement already satisfied: PySastrawi in /usr/local/lib/python3.7/dist-packages (1.2.0)\n"
          ]
        }
      ]
    },
    {
      "cell_type": "code",
      "metadata": {
        "colab": {
          "base_uri": "https://localhost:8080/"
        },
        "id": "-OqeJ-fS4o9u",
        "outputId": "b3627f8a-b6d5-4fa6-bd67-55e55dfb88b4"
      },
      "source": [
        "# create stemmer\n",
        "factory = StemmerFactory()\n",
        "stemmer = factory.create_stemmer()\n",
        "\n",
        "contoh = data['review'][0]\n",
        "print(\"Sebelum dirubah: \" + data['review'][0])\n",
        "print(\"Sesudah dirubah: \" + stemmer.stem(contoh))"
      ],
      "execution_count": null,
      "outputs": [
        {
          "output_type": "stream",
          "name": "stdout",
          "text": [
            "Sebelum dirubah: Bagaimana bisa,,data di KTP saya, saya isi ke aplikasi peduli lindungi bisa tidak singkron, ini ktp asli lho bos!!!! Bisa2 nya bisa muncul tulisan \"sesuaikan nama dan nik anda dengan Ktp\" , saya harus mengadu kemana telpon ke 119 ex 9,, ga bisa terus,, jangan bikin bingung bos kalo bikin aplikasi,!!\n",
            "Sesudah dirubah: bagaimana bisa data di ktp saya saya isi ke aplikasi peduli lindung bisa tidak singkron ini ktp asli lho bos bisa2 nya bisa muncul tulis sesuai nama dan nik anda dengan ktp saya harus adu mana telpon ke 119 ex 9 ga bisa terus jangan bikin bingung bos kalo bikin aplikasi\n"
          ]
        }
      ]
    },
    {
      "cell_type": "code",
      "metadata": {
        "id": "Q8gLgwaL5Gbn"
      },
      "source": [
        "x=[]\n",
        "for teks in data.review:\n",
        "    x.append(stemmer.stem(teks))"
      ],
      "execution_count": null,
      "outputs": []
    },
    {
      "cell_type": "code",
      "metadata": {
        "id": "thG3Uhka5J8l"
      },
      "source": [
        "clean_review=pd.DataFrame({'clean_review':x})"
      ],
      "execution_count": null,
      "outputs": []
    },
    {
      "cell_type": "code",
      "metadata": {
        "colab": {
          "base_uri": "https://localhost:8080/",
          "height": 423
        },
        "id": "fE0hjIbAF-_O",
        "outputId": "aee77dcf-184e-4622-f2dc-08078d44a2b3"
      },
      "source": [
        "clean_review"
      ],
      "execution_count": null,
      "outputs": [
        {
          "output_type": "execute_result",
          "data": {
            "text/html": [
              "<div>\n",
              "<style scoped>\n",
              "    .dataframe tbody tr th:only-of-type {\n",
              "        vertical-align: middle;\n",
              "    }\n",
              "\n",
              "    .dataframe tbody tr th {\n",
              "        vertical-align: top;\n",
              "    }\n",
              "\n",
              "    .dataframe thead th {\n",
              "        text-align: right;\n",
              "    }\n",
              "</style>\n",
              "<table border=\"1\" class=\"dataframe\">\n",
              "  <thead>\n",
              "    <tr style=\"text-align: right;\">\n",
              "      <th></th>\n",
              "      <th>clean_review</th>\n",
              "    </tr>\n",
              "  </thead>\n",
              "  <tbody>\n",
              "    <tr>\n",
              "      <th>0</th>\n",
              "      <td>bagaimana bisa data di ktp saya saya isi ke ap...</td>\n",
              "    </tr>\n",
              "    <tr>\n",
              "      <th>1</th>\n",
              "      <td>saya kasih satu dulu karena aplikasi saat dido...</td>\n",
              "    </tr>\n",
              "    <tr>\n",
              "      <th>2</th>\n",
              "      <td>admin masalah saya yg pertama saat laku daftar...</td>\n",
              "    </tr>\n",
              "    <tr>\n",
              "      <th>3</th>\n",
              "      <td>sangat kecewa tdk profesional sekali cs peduli...</td>\n",
              "    </tr>\n",
              "    <tr>\n",
              "      <th>4</th>\n",
              "      <td>aplikasi sangat buruk registrasi susah sekali ...</td>\n",
              "    </tr>\n",
              "    <tr>\n",
              "      <th>...</th>\n",
              "      <td>...</td>\n",
              "    </tr>\n",
              "    <tr>\n",
              "      <th>195</th>\n",
              "      <td>saya vaksin yang pertama tgl 09 10 2021 dan ba...</td>\n",
              "    </tr>\n",
              "    <tr>\n",
              "      <th>196</th>\n",
              "      <td>alhamdulillah jauh ini saya tidak ada kendala ...</td>\n",
              "    </tr>\n",
              "    <tr>\n",
              "      <th>197</th>\n",
              "      <td>aplikasi ini sangat butuh banget untuk masa se...</td>\n",
              "    </tr>\n",
              "    <tr>\n",
              "      <th>198</th>\n",
              "      <td>alhamdulilah apk nya bantu banget syukur juga ...</td>\n",
              "    </tr>\n",
              "    <tr>\n",
              "      <th>199</th>\n",
              "      <td>bagus banget aplikasi nya cocok banget lagi ad...</td>\n",
              "    </tr>\n",
              "  </tbody>\n",
              "</table>\n",
              "<p>200 rows × 1 columns</p>\n",
              "</div>"
            ],
            "text/plain": [
              "                                          clean_review\n",
              "0    bagaimana bisa data di ktp saya saya isi ke ap...\n",
              "1    saya kasih satu dulu karena aplikasi saat dido...\n",
              "2    admin masalah saya yg pertama saat laku daftar...\n",
              "3    sangat kecewa tdk profesional sekali cs peduli...\n",
              "4    aplikasi sangat buruk registrasi susah sekali ...\n",
              "..                                                 ...\n",
              "195  saya vaksin yang pertama tgl 09 10 2021 dan ba...\n",
              "196  alhamdulillah jauh ini saya tidak ada kendala ...\n",
              "197  aplikasi ini sangat butuh banget untuk masa se...\n",
              "198  alhamdulilah apk nya bantu banget syukur juga ...\n",
              "199  bagus banget aplikasi nya cocok banget lagi ad...\n",
              "\n",
              "[200 rows x 1 columns]"
            ]
          },
          "metadata": {},
          "execution_count": 8
        }
      ]
    },
    {
      "cell_type": "code",
      "metadata": {
        "id": "iwhW37sL5Qqa"
      },
      "source": [
        "data['review'] = clean_review"
      ],
      "execution_count": null,
      "outputs": []
    },
    {
      "cell_type": "code",
      "metadata": {
        "id": "smeVY64hURQ9"
      },
      "source": [
        "data['jenis_review']=data['jenis_review'].map({1:'positif',0:'negatif'})"
      ],
      "execution_count": null,
      "outputs": []
    },
    {
      "cell_type": "code",
      "metadata": {
        "colab": {
          "base_uri": "https://localhost:8080/",
          "height": 423
        },
        "id": "Z-xRfAJu5Uk6",
        "outputId": "610a7af5-1911-4afc-8364-83f9037f739f"
      },
      "source": [
        "data"
      ],
      "execution_count": null,
      "outputs": [
        {
          "output_type": "execute_result",
          "data": {
            "text/html": [
              "<div>\n",
              "<style scoped>\n",
              "    .dataframe tbody tr th:only-of-type {\n",
              "        vertical-align: middle;\n",
              "    }\n",
              "\n",
              "    .dataframe tbody tr th {\n",
              "        vertical-align: top;\n",
              "    }\n",
              "\n",
              "    .dataframe thead th {\n",
              "        text-align: right;\n",
              "    }\n",
              "</style>\n",
              "<table border=\"1\" class=\"dataframe\">\n",
              "  <thead>\n",
              "    <tr style=\"text-align: right;\">\n",
              "      <th></th>\n",
              "      <th>rating</th>\n",
              "      <th>review</th>\n",
              "      <th>jenis_review</th>\n",
              "    </tr>\n",
              "  </thead>\n",
              "  <tbody>\n",
              "    <tr>\n",
              "      <th>0</th>\n",
              "      <td>1</td>\n",
              "      <td>bagaimana bisa data di ktp saya saya isi ke ap...</td>\n",
              "      <td>negatif</td>\n",
              "    </tr>\n",
              "    <tr>\n",
              "      <th>1</th>\n",
              "      <td>1</td>\n",
              "      <td>saya kasih satu dulu karena aplikasi saat dido...</td>\n",
              "      <td>negatif</td>\n",
              "    </tr>\n",
              "    <tr>\n",
              "      <th>2</th>\n",
              "      <td>1</td>\n",
              "      <td>admin masalah saya yg pertama saat laku daftar...</td>\n",
              "      <td>negatif</td>\n",
              "    </tr>\n",
              "    <tr>\n",
              "      <th>3</th>\n",
              "      <td>1</td>\n",
              "      <td>sangat kecewa tdk profesional sekali cs peduli...</td>\n",
              "      <td>negatif</td>\n",
              "    </tr>\n",
              "    <tr>\n",
              "      <th>4</th>\n",
              "      <td>1</td>\n",
              "      <td>aplikasi sangat buruk registrasi susah sekali ...</td>\n",
              "      <td>negatif</td>\n",
              "    </tr>\n",
              "    <tr>\n",
              "      <th>...</th>\n",
              "      <td>...</td>\n",
              "      <td>...</td>\n",
              "      <td>...</td>\n",
              "    </tr>\n",
              "    <tr>\n",
              "      <th>195</th>\n",
              "      <td>5</td>\n",
              "      <td>saya vaksin yang pertama tgl 09 10 2021 dan ba...</td>\n",
              "      <td>positif</td>\n",
              "    </tr>\n",
              "    <tr>\n",
              "      <th>196</th>\n",
              "      <td>5</td>\n",
              "      <td>alhamdulillah jauh ini saya tidak ada kendala ...</td>\n",
              "      <td>positif</td>\n",
              "    </tr>\n",
              "    <tr>\n",
              "      <th>197</th>\n",
              "      <td>5</td>\n",
              "      <td>aplikasi ini sangat butuh banget untuk masa se...</td>\n",
              "      <td>positif</td>\n",
              "    </tr>\n",
              "    <tr>\n",
              "      <th>198</th>\n",
              "      <td>5</td>\n",
              "      <td>alhamdulilah apk nya bantu banget syukur juga ...</td>\n",
              "      <td>positif</td>\n",
              "    </tr>\n",
              "    <tr>\n",
              "      <th>199</th>\n",
              "      <td>5</td>\n",
              "      <td>bagus banget aplikasi nya cocok banget lagi ad...</td>\n",
              "      <td>positif</td>\n",
              "    </tr>\n",
              "  </tbody>\n",
              "</table>\n",
              "<p>200 rows × 3 columns</p>\n",
              "</div>"
            ],
            "text/plain": [
              "     rating                                             review jenis_review\n",
              "0         1  bagaimana bisa data di ktp saya saya isi ke ap...      negatif\n",
              "1         1  saya kasih satu dulu karena aplikasi saat dido...      negatif\n",
              "2         1  admin masalah saya yg pertama saat laku daftar...      negatif\n",
              "3         1  sangat kecewa tdk profesional sekali cs peduli...      negatif\n",
              "4         1  aplikasi sangat buruk registrasi susah sekali ...      negatif\n",
              "..      ...                                                ...          ...\n",
              "195       5  saya vaksin yang pertama tgl 09 10 2021 dan ba...      positif\n",
              "196       5  alhamdulillah jauh ini saya tidak ada kendala ...      positif\n",
              "197       5  aplikasi ini sangat butuh banget untuk masa se...      positif\n",
              "198       5  alhamdulilah apk nya bantu banget syukur juga ...      positif\n",
              "199       5  bagus banget aplikasi nya cocok banget lagi ad...      positif\n",
              "\n",
              "[200 rows x 3 columns]"
            ]
          },
          "metadata": {},
          "execution_count": 11
        }
      ]
    },
    {
      "cell_type": "markdown",
      "metadata": {
        "id": "FV_FCla-Nvqe"
      },
      "source": [
        "# Model"
      ]
    },
    {
      "cell_type": "code",
      "metadata": {
        "id": "jfzg4sVMHApJ"
      },
      "source": [
        "from sklearn.model_selection import train_test_split"
      ],
      "execution_count": null,
      "outputs": []
    },
    {
      "cell_type": "code",
      "metadata": {
        "id": "xJ_n2qVGG7B2"
      },
      "source": [
        "X = data.review\n",
        "y = data.jenis_review\n",
        "x_train, x_test, y_train, y_test = train_test_split(X,y,test_size=0.25, random_state=42)"
      ],
      "execution_count": null,
      "outputs": []
    },
    {
      "cell_type": "code",
      "metadata": {
        "id": "wFLCqgOv5g_m"
      },
      "source": [
        "from sklearn.feature_extraction.text import CountVectorizer\n",
        "cvec=CountVectorizer()"
      ],
      "execution_count": null,
      "outputs": []
    },
    {
      "cell_type": "code",
      "metadata": {
        "id": "QYk8oeNU5jVW"
      },
      "source": [
        "from sklearn.naive_bayes import GaussianNB\n",
        "clf = GaussianNB()"
      ],
      "execution_count": null,
      "outputs": []
    },
    {
      "cell_type": "code",
      "metadata": {
        "id": "tIigf0EK5mk_"
      },
      "source": [
        "from sklearn.pipeline import make_pipeline"
      ],
      "execution_count": null,
      "outputs": []
    },
    {
      "cell_type": "code",
      "metadata": {
        "id": "2x9dxy-05nH6"
      },
      "source": [
        "from sklearn.preprocessing import FunctionTransformer\n",
        "\n",
        "model = make_pipeline(\n",
        "     cvec,\n",
        "     FunctionTransformer(lambda x: x.todense(), accept_sparse=True), \n",
        "     clf\n",
        ")"
      ],
      "execution_count": null,
      "outputs": []
    },
    {
      "cell_type": "code",
      "metadata": {
        "colab": {
          "base_uri": "https://localhost:8080/"
        },
        "id": "MKmq_NUL5qcl",
        "outputId": "f0f473dc-0153-4498-d92b-155da4b4a606"
      },
      "source": [
        "model.fit(x_train,y_train)"
      ],
      "execution_count": null,
      "outputs": [
        {
          "output_type": "stream",
          "name": "stderr",
          "text": [
            "/usr/local/lib/python3.7/dist-packages/sklearn/utils/validation.py:590: FutureWarning: np.matrix usage is deprecated in 1.0 and will raise a TypeError in 1.2. Please convert to a numpy array with np.asarray. For more information see: https://numpy.org/doc/stable/reference/generated/numpy.matrix.html\n",
            "  FutureWarning,\n"
          ]
        },
        {
          "output_type": "execute_result",
          "data": {
            "text/plain": [
              "Pipeline(steps=[('countvectorizer', CountVectorizer()),\n",
              "                ('functiontransformer',\n",
              "                 FunctionTransformer(accept_sparse=True,\n",
              "                                     func=<function <lambda> at 0x7feeddf18f80>)),\n",
              "                ('gaussiannb', GaussianNB())])"
            ]
          },
          "metadata": {},
          "execution_count": 67
        }
      ]
    },
    {
      "cell_type": "code",
      "metadata": {
        "colab": {
          "base_uri": "https://localhost:8080/"
        },
        "id": "5EUr9pXx5sDM",
        "outputId": "6634fb34-4a98-46c7-868c-e3a3a615605f"
      },
      "source": [
        "hasil=model.predict(x_test)\n",
        "hasil"
      ],
      "execution_count": null,
      "outputs": [
        {
          "output_type": "stream",
          "name": "stderr",
          "text": [
            "/usr/local/lib/python3.7/dist-packages/sklearn/utils/validation.py:590: FutureWarning: np.matrix usage is deprecated in 1.0 and will raise a TypeError in 1.2. Please convert to a numpy array with np.asarray. For more information see: https://numpy.org/doc/stable/reference/generated/numpy.matrix.html\n",
            "  FutureWarning,\n"
          ]
        },
        {
          "output_type": "execute_result",
          "data": {
            "text/plain": [
              "array(['negatif', 'negatif', 'negatif', 'positif', 'negatif', 'positif',\n",
              "       'negatif', 'positif', 'positif', 'negatif', 'negatif', 'negatif',\n",
              "       'positif', 'negatif', 'negatif', 'positif', 'negatif', 'positif',\n",
              "       'negatif', 'negatif', 'positif', 'negatif', 'negatif', 'negatif',\n",
              "       'negatif', 'negatif', 'negatif', 'negatif', 'positif', 'positif',\n",
              "       'negatif', 'negatif', 'negatif', 'negatif', 'positif', 'positif',\n",
              "       'positif', 'negatif', 'positif', 'negatif', 'negatif', 'negatif',\n",
              "       'negatif', 'negatif', 'negatif', 'positif', 'negatif', 'negatif',\n",
              "       'positif', 'negatif'], dtype='<U7')"
            ]
          },
          "metadata": {},
          "execution_count": 68
        }
      ]
    },
    {
      "cell_type": "code",
      "metadata": {
        "id": "Mu_K72EH5suh"
      },
      "source": [
        "from sklearn.metrics import accuracy_score,confusion_matrix"
      ],
      "execution_count": null,
      "outputs": []
    },
    {
      "cell_type": "code",
      "metadata": {
        "colab": {
          "base_uri": "https://localhost:8080/",
          "height": 312
        },
        "id": "CzAEJ2Kj8PyW",
        "outputId": "8998706b-327c-450f-c6eb-5c7fabd95b60"
      },
      "source": [
        "import seaborn as sns\n",
        "import matplotlib.pyplot as plt \n",
        "cnf_matrix = confusion_matrix(y_test, hasil)\n",
        "p = sns.heatmap(pd.DataFrame(cnf_matrix),annot=True, cmap=\"YlGnBu\" ,fmt='g')\n",
        "plt.title('Confusion matrix', y=1.1)\n",
        "plt.ylabel('Actual label')\n",
        "plt.xlabel('Predicted label')"
      ],
      "execution_count": null,
      "outputs": [
        {
          "output_type": "execute_result",
          "data": {
            "text/plain": [
              "Text(0.5, 15.0, 'Predicted label')"
            ]
          },
          "metadata": {},
          "execution_count": 73
        },
        {
          "output_type": "display_data",
          "data": {
            "image/png": "[encoded data removed]",
            "text/plain": [
              "<Figure size 432x288 with 2 Axes>"
            ]
          },
          "metadata": {
            "needs_background": "light"
          }
        }
      ]
    },
    {
      "cell_type": "code",
      "metadata": {
        "colab": {
          "base_uri": "https://localhost:8080/"
        },
        "id": "pfPlLJSx8SPS",
        "outputId": "a0f7e7a3-6707-42a2-b16f-4d90aef0ee1c"
      },
      "source": [
        "accuracy_score(hasil,y_test)"
      ],
      "execution_count": null,
      "outputs": [
        {
          "output_type": "execute_result",
          "data": {
            "text/plain": [
              "0.86"
            ]
          },
          "metadata": {},
          "execution_count": 71
        }
      ]
    },
    {
      "cell_type": "code",
      "metadata": {
        "colab": {
          "base_uri": "https://localhost:8080/"
        },
        "id": "2Hup58hbKCjx",
        "outputId": "ed3ced95-1d62-4f05-e6f6-d3321a452fbd"
      },
      "source": [
        "print('Masukkan review:')\n",
        "review = input()\n",
        "hasil_review = model.predict([review])\n",
        "print('Review berkategori: ' + hasil_review[0])"
      ],
      "execution_count": null,
      "outputs": [
        {
          "output_type": "stream",
          "name": "stdout",
          "text": [
            "Masukkan review:\n",
            "aplikasi kecewa\n",
            "Review berkategori: negatif\n"
          ]
        },
        {
          "output_type": "stream",
          "name": "stderr",
          "text": [
            "/usr/local/lib/python3.7/dist-packages/sklearn/utils/validation.py:590: FutureWarning: np.matrix usage is deprecated in 1.0 and will raise a TypeError in 1.2. Please convert to a numpy array with np.asarray. For more information see: https://numpy.org/doc/stable/reference/generated/numpy.matrix.html\n",
            "  FutureWarning,\n"
          ]
        }
      ]
    }
  ]
}